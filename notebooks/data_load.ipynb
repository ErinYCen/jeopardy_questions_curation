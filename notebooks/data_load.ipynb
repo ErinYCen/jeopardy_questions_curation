{
 "cells": [
  {
   "cell_type": "code",
   "execution_count": 8,
   "id": "4566cd53-856d-4b9a-ba99-57a047558b94",
   "metadata": {},
   "outputs": [
    {
     "name": "stdout",
     "output_type": "stream",
     "text": [
      "Total: 216930\n",
      "[{'category': 'HISTORY', 'air_date': '2004-12-31', 'question': \"'For the last 8 years of his life, Galileo was under house arrest for espousing this man's theory'\", 'value': '$200', 'answer': 'Copernicus', 'round': 'Jeopardy!', 'show_number': '4680'}, {'category': \"ESPN's TOP 10 ALL-TIME ATHLETES\", 'air_date': '2004-12-31', 'question': \"'No. 2: 1912 Olympian; football star at Carlisle Indian School; 6 MLB seasons with the Reds, Giants & Braves'\", 'value': '$200', 'answer': 'Jim Thorpe', 'round': 'Jeopardy!', 'show_number': '4680'}]\n"
     ]
    }
   ],
   "source": [
    "import json\n",
    "\n",
    "dataset_path = \"../data/JEOPARDY_QUESTIONS1.json\"\n",
    "\n",
    "with open(dataset_path, \"r\") as file:\n",
    "    data = json.load(file)\n",
    "\n",
    "    print(f\"Total: {len(data)}\")\n",
    "    print(data[:2])\n",
    "    "
   ]
  },
  {
   "cell_type": "code",
   "execution_count": 7,
   "id": "dfe26860-bcf0-4c34-a957-43009e02584e",
   "metadata": {},
   "outputs": [
    {
     "name": "stdout",
     "output_type": "stream",
     "text": [
      "keys: {'value', 'round', 'answer', 'air_date', 'category', 'show_number', 'question'}\n"
     ]
    }
   ],
   "source": [
    "all_keys = set()\n",
    "for items in data:\n",
    "    all_keys.update(items.keys())\n",
    "print(f\"keys: {all_keys}\")"
   ]
  },
  {
   "cell_type": "markdown",
   "id": "3307f303-440f-48d2-9d6e-434a886b1b62",
   "metadata": {},
   "source": [
    "- **category** (`str`): The category of this question.\n",
    "- **air_date** (`str`): \"YYYY-MM-DD\"\n",
    "- **question** (`str`): Question text.\n",
    "- **value** (`str`): The value of the question.\n",
    "- **answer** (`str`): Answer text.\n",
    "- **round** (`str`): The round in which the question was asked.\n",
    "- **show_number** (`str`): The ID of the show in which the question aired."
   ]
  }
 ],
 "metadata": {
  "kernelspec": {
   "display_name": "Python 3 (ipykernel)",
   "language": "python",
   "name": "python3"
  },
  "language_info": {
   "codemirror_mode": {
    "name": "ipython",
    "version": 3
   },
   "file_extension": ".py",
   "mimetype": "text/x-python",
   "name": "python",
   "nbconvert_exporter": "python",
   "pygments_lexer": "ipython3",
   "version": "3.9.6"
  }
 },
 "nbformat": 4,
 "nbformat_minor": 5
}
