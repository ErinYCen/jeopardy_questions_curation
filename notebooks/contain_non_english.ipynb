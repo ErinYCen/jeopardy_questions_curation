{
 "cells": [
  {
   "cell_type": "code",
   "execution_count": 10,
   "id": "96e472a7-3afa-457f-9f3d-c609939cc874",
   "metadata": {},
   "outputs": [
    {
     "name": "stderr",
     "output_type": "stream",
     "text": [
      "[nltk_data] Downloading package words to /Users/erinc/nltk_data...\n",
      "[nltk_data]   Package words is already up-to-date!\n",
      "[nltk_data] Downloading package names to /Users/erinc/nltk_data...\n",
      "[nltk_data]   Package names is already up-to-date!\n",
      "[nltk_data] Downloading package punkt to /Users/erinc/nltk_data...\n",
      "[nltk_data]   Package punkt is already up-to-date!\n",
      "[nltk_data] Downloading package maxent_ne_chunker_tab to\n",
      "[nltk_data]     /Users/erinc/nltk_data...\n",
      "[nltk_data]   Package maxent_ne_chunker_tab is already up-to-date!\n",
      "[nltk_data] Downloading package averaged_perceptron_tagger_eng to\n",
      "[nltk_data]     /Users/erinc/nltk_data...\n",
      "[nltk_data]   Package averaged_perceptron_tagger_eng is already up-to-\n",
      "[nltk_data]       date!\n",
      "[nltk_data] Downloading package wordnet to /Users/erinc/nltk_data...\n",
      "[nltk_data]   Package wordnet is already up-to-date!\n"
     ]
    },
    {
     "name": "stdout",
     "output_type": "stream",
     "text": [
      "Tokens: ['For', 'the', 'last', '8', 'years', 'of', 'his', 'life', ',', 'was', 'under', 'house', 'arrest', 'for', 'espousing', 'this', 'man', \"'s\", 'theory', \"'\"]\n",
      "Named Entities: set()\n",
      "Non-English Words: ['espousing']\n",
      "True\n"
     ]
    }
   ],
   "source": [
    "import nltk\n",
    "from nltk.corpus import words, names, wordnet\n",
    "from nltk.tokenize import word_tokenize\n",
    "from nltk.tag import pos_tag\n",
    "from nltk.chunk import ne_chunk\n",
    "from nltk.tree import Tree\n",
    "\n",
    "nltk.download('words')\n",
    "nltk.download('names')\n",
    "nltk.download('punkt')\n",
    "nltk.download('maxent_ne_chunker_tab')\n",
    "nltk.download('averaged_perceptron_tagger_eng')\n",
    "nltk.download('wordnet')\n",
    "\n",
    "def contain_non_english(phrase):\n",
    "    english_words = set(words.words()) | set(wordnet.words())\n",
    "    english_names = set(names.words())\n",
    "    \n",
    "    tokens = word_tokenize(phrase)\n",
    "    \n",
    "    tagged_tokens = pos_tag(tokens)\n",
    "    named_entities = set()\n",
    "    \n",
    "    for chunk in ne_chunk(tagged_tokens):\n",
    "        if isinstance(chunk, Tree): \n",
    "            named_entity = \" \".join(c[0] for c in chunk)\n",
    "            named_entities.add(named_entity.lower())\n",
    "\n",
    "    non_english = [\n",
    "        word for word in tokens \n",
    "        if word.isalpha() \n",
    "        and word.lower() not in english_words \n",
    "        and word.lower() not in english_names \n",
    "        and word.lower() not in named_entities\n",
    "    ]\n",
    "    print(\"Tokens:\", tokens)\n",
    "    print(\"Named Entities:\", named_entities)\n",
    "    print(\"Non-English Words:\", non_english)\n",
    "    return len(non_english) > 0\n",
    "\n",
    "\n",
    "sample = {'category': 'HISTORY', 'air_date': '2004-12-31', 'question': \"For the last 8 years of his life, was under house arrest for espousing this man's theory'\", 'value': '$200', 'answer': 'Copernicus', 'round': 'Jeopardy!', 'show_number': '4680'}\n",
    "print (contain_non_english(sample['question']))\n"
   ]
  },
  {
   "cell_type": "code",
   "execution_count": 17,
   "id": "077ea9ae-28c8-4b1f-af6b-596057a2cff1",
   "metadata": {},
   "outputs": [
    {
     "name": "stdout",
     "output_type": "stream",
     "text": [
      "Tokens: ['For', 'the', 'last', '8', 'years', 'of', 'his', 'life,', 'was', 'under', 'house', 'arrest', 'for', 'espousing', 'this', \"man's\", \"theory'\"]\n",
      "Non-English Words: ['espousing']\n",
      "True\n"
     ]
    }
   ],
   "source": [
    "from py3langid.langid import LanguageIdentifier, MODEL_FILE\n",
    "\n",
    "\n",
    "def contain_non_english(phrase):\n",
    "    identifier = LanguageIdentifier.from_pickled_model(MODEL_FILE, norm_probs=True)\n",
    "    tokens = phrase.split()\n",
    "\n",
    "    non_english = [\n",
    "        word for word in tokens\n",
    "        if identifier.classify(word)[0] != 'en'\n",
    "    ]\n",
    "\n",
    "    print(\"Tokens:\", tokens)\n",
    "    print(\"Non-English Words:\", non_english)\n",
    "\n",
    "    return len(non_english) > 0\n",
    "    \n",
    "sample = {'category': 'HISTORY', 'air_date': '2004-12-31', 'question': \"For the last 8 years of his life, was under house arrest for espousing this man's theory'\", 'value': '$200', 'answer': 'Copernicus', 'round': 'Jeopardy!', 'show_number': '4680'}\n",
    "print (contain_non_english(sample['question']))"
   ]
  }
 ],
 "metadata": {
  "kernelspec": {
   "display_name": "Python 3 (ipykernel)",
   "language": "python",
   "name": "python3"
  },
  "language_info": {
   "codemirror_mode": {
    "name": "ipython",
    "version": 3
   },
   "file_extension": ".py",
   "mimetype": "text/x-python",
   "name": "python",
   "nbconvert_exporter": "python",
   "pygments_lexer": "ipython3",
   "version": "3.9.6"
  }
 },
 "nbformat": 4,
 "nbformat_minor": 5
}
