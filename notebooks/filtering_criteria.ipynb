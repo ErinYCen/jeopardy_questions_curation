{
 "cells": [
  {
   "cell_type": "code",
   "execution_count": 1,
   "id": "2b3d8973-03a4-4a00-856d-4253ab296731",
   "metadata": {},
   "outputs": [
    {
     "name": "stdout",
     "output_type": "stream",
     "text": [
      "Total: 216930\n",
      "{'category': 'HISTORY', 'air_date': '2004-12-31', 'question': \"'For the last 8 years of his life, Galileo was under house arrest for espousing this man's theory'\", 'value': '$200', 'answer': 'Copernicus', 'round': 'Jeopardy!', 'show_number': '4680'}\n"
     ]
    }
   ],
   "source": [
    "import json\n",
    "\n",
    "dataset_path = \"../data/JEOPARDY_QUESTIONS1.json\"\n",
    "\n",
    "with open(dataset_path, \"r\") as file:\n",
    "    data = json.load(file)\n",
    "\n",
    "    print(f\"Total: {len(data)}\")\n",
    "    print(data[0])"
   ]
  },
  {
   "cell_type": "code",
   "execution_count": 8,
   "id": "5d4b9d42-2836-4bb9-96d1-750101b62b66",
   "metadata": {},
   "outputs": [
    {
     "name": "stdout",
     "output_type": "stream",
     "text": [
      "{True}\n"
     ]
    }
   ],
   "source": [
    "import re\n",
    "\n",
    "def contain_numbers(phrase):\n",
    "    return bool(re.search(r'\\d', phrase))\n",
    "\n",
    "sample = {'category': 'HISTORY', 'air_date': '2004-12-31', 'question': \"'For the last 8 years of his life, Galileo was under house arrest for espousing this man's theory'\", 'value': '$200', 'answer': 'Copernicus', 'round': 'Jeopardy!', 'show_number': '4680'}\n",
    "print ({contain_numbers(sample['question'])})"
   ]
  },
  {
   "cell_type": "code",
   "execution_count": 11,
   "id": "15dc17b8-3b40-4d3b-bf20-c339b30060aa",
   "metadata": {},
   "outputs": [
    {
     "name": "stdout",
     "output_type": "stream",
     "text": [
      "{True}\n"
     ]
    },
    {
     "name": "stderr",
     "output_type": "stream",
     "text": [
      "[nltk_data] Downloading package words to /Users/erinc/nltk_data...\n",
      "[nltk_data]   Package words is already up-to-date!\n",
      "[nltk_data] Downloading package punkt_tab to /Users/erinc/nltk_data...\n",
      "[nltk_data]   Package punkt_tab is already up-to-date!\n"
     ]
    }
   ],
   "source": [
    "from nltk.corpus import words\n",
    "from nltk.tokenize import word_tokenize\n",
    "\n",
    "import nltk\n",
    "nltk.download('words')\n",
    "nltk.download('punkt_tab')\n",
    "\n",
    "english_words = set(words.words())\n",
    "\n",
    "def contain_non_english(phrase):\n",
    "    tokens = word_tokenize(phrase)\n",
    "    non_english = [word for word in tokens if word.isalpha() and word.lower() not in english_words]\n",
    "    return len(non_english) > 0\n",
    "\n",
    "sample = {'category': 'HISTORY', 'air_date': '2004-12-31', 'question': \"'For the last 8 years of his life, Galileo was under house arrest for espousing this man's theory'\", 'value': '$200', 'answer': 'Copernicus', 'round': 'Jeopardy!', 'show_number': '4680'}\n",
    "print ({contain_non_english(sample['question'])})"
   ]
  },
  {
   "cell_type": "code",
   "execution_count": 28,
   "id": "a70648df-0ee2-4d0b-b393-cc6f3f9d2638",
   "metadata": {},
   "outputs": [
    {
     "name": "stdout",
     "output_type": "stream",
     "text": [
      "{False}\n"
     ]
    }
   ],
   "source": [
    "import spacy\n",
    "import requests\n",
    "\n",
    "nlp = spacy.load(\"en_core_web_md\")\n",
    "\n",
    "def query_wikidata_rarity(noun_tobecheck):\n",
    "    url = \"https://www.wikidata.org/w/api.php\"\n",
    "    params = {\n",
    "        \"action\": \"wbsearchentities\",\n",
    "        \"language\": \"en\",\n",
    "        \"format\": \"json\",\n",
    "        \"search\": noun_tobecheck,\n",
    "    }\n",
    "    response = requests.get(url, params=params)\n",
    "    data = response.json()\n",
    "\n",
    "    if not data.get(\"search\"):\n",
    "        return True\n",
    "\n",
    "    for result in data[\"search\"]:\n",
    "        description =  result.get(\"description\", \"\").lower()\n",
    "        if any(keyword in description for keyword in [\"person\", \"city\", \"state\", \"country\", \"organization\"]):\n",
    "            return False\n",
    "        if result.get(\"sitelinks\", 0) > 50:\n",
    "            return False\n",
    "    return True\n",
    "\n",
    "def contain_unusual_proper_nouns(phrase):\n",
    "    doc = nlp(phrase)\n",
    "\n",
    "    for sent in doc.sents:\n",
    "        for ent in sent.ents:\n",
    "            if ent.label_ in {\"PERSON\", \"GPE\", \"ORG\", \"LOC\", \"FAC\", \"EVENT\", \"WORK_OF_ART\", \"LAW\"} and query_wikidata_rarity(ent.text):\n",
    "                return True\n",
    "    return False\n",
    "                \n",
    "    '''\n",
    "    PERSON - Person's names, \n",
    "    GPE - Geographic locations, \n",
    "    ORG - Organizations, \n",
    "    LOC - Non-GPE locations, \n",
    "    FAC - Facilities, \n",
    "    EVENT - Named events, \n",
    "    WORK_OF_ART - Titles of books, songs, movies, paintings, \n",
    "    LAW - Named documents made into laws.\n",
    "    '''\n",
    "\n",
    "sample = {'category': 'HISTORY', 'air_date': '2004-12-31', 'question': \"'For the last 8 years of his life, Galileo was under house arrest for espousing this man's theory'\", 'value': '$200', 'answer': 'Copernicus', 'round': 'Jeopardy!', 'show_number': '4680'}\n",
    "\n",
    "print ({contain_unusual_proper_nouns(sample['question'])})"
   ]
  },
  {
   "cell_type": "code",
   "execution_count": null,
   "id": "c63bafe2-5296-45c0-a415-db8fab516cca",
   "metadata": {},
   "outputs": [],
   "source": []
  }
 ],
 "metadata": {
  "kernelspec": {
   "display_name": "Python 3 (ipykernel)",
   "language": "python",
   "name": "python3"
  },
  "language_info": {
   "codemirror_mode": {
    "name": "ipython",
    "version": 3
   },
   "file_extension": ".py",
   "mimetype": "text/x-python",
   "name": "python",
   "nbconvert_exporter": "python",
   "pygments_lexer": "ipython3",
   "version": "3.9.6"
  }
 },
 "nbformat": 4,
 "nbformat_minor": 5
}
